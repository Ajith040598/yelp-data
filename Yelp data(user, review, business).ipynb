{
 "cells": [
  {
   "cell_type": "code",
   "execution_count": 6,
   "id": "21fc704c",
   "metadata": {},
   "outputs": [
    {
     "name": "stderr",
     "output_type": "stream",
     "text": [
      "22/05/07 15:13:16 WARN Utils: Your hostname, AGLS-MLT-588.local resolves to a loopback address: 127.0.0.1; using 192.168.43.184 instead (on interface en0)\n",
      "22/05/07 15:13:16 WARN Utils: Set SPARK_LOCAL_IP if you need to bind to another address\n",
      "WARNING: An illegal reflective access operation has occurred\n",
      "WARNING: Illegal reflective access by org.apache.spark.unsafe.Platform (file:/Users/ajithmurali/opt/anaconda3/lib/python3.9/site-packages/pyspark/jars/spark-unsafe_2.12-3.1.2.jar) to constructor java.nio.DirectByteBuffer(long,int)\n",
      "WARNING: Please consider reporting this to the maintainers of org.apache.spark.unsafe.Platform\n",
      "WARNING: Use --illegal-access=warn to enable warnings of further illegal reflective access operations\n",
      "WARNING: All illegal access operations will be denied in a future release\n",
      "22/05/07 15:13:16 WARN NativeCodeLoader: Unable to load native-hadoop library for your platform... using builtin-java classes where applicable\n",
      "Using Spark's default log4j profile: org/apache/spark/log4j-defaults.properties\n",
      "Setting default log level to \"WARN\".\n",
      "To adjust logging level use sc.setLogLevel(newLevel). For SparkR, use setLogLevel(newLevel).\n"
     ]
    }
   ],
   "source": [
    " # Import SparkSession\n",
    "from pyspark.sql import SparkSession\n",
    " \n",
    "# Create SparkSession \n",
    "spark = SparkSession.builder \\\n",
    "      .master(\"local[1]\") \\\n",
    "      .appName(\"Final Pyspark Project\") \\\n",
    "      .getOrCreate() "
   ]
  },
  {
   "cell_type": "code",
   "execution_count": 7,
   "id": "88dbd593",
   "metadata": {},
   "outputs": [
    {
     "data": {
      "text/plain": [
       "'/Users/ajithmurali/opt/anaconda3/lib/python3.9/site-packages/pyspark'"
      ]
     },
     "execution_count": 7,
     "metadata": {},
     "output_type": "execute_result"
    }
   ],
   "source": [
    "import findspark\n",
    "findspark.init()\n",
    "findspark.find()\n",
    "import pyspark\n",
    "findspark.find()"
   ]
  },
  {
   "cell_type": "code",
   "execution_count": 8,
   "id": "e55b48aa",
   "metadata": {},
   "outputs": [],
   "source": [
    "from pyspark.context import SparkContext\n",
    "from pyspark.sql.session import SparkSession\n",
    "from pyspark.sql.functions import explode,split\n",
    "from pyspark.sql.functions import col,count\n",
    "from pyspark.sql.functions import sum as _sum\n",
    "from pyspark.sql.functions import *"
   ]
  },
  {
   "cell_type": "code",
   "execution_count": 9,
   "id": "4fe338b6",
   "metadata": {},
   "outputs": [],
   "source": [
    "from pyspark.sql import SQLContext\n",
    "from pyspark.sql import *"
   ]
  },
  {
   "cell_type": "code",
   "execution_count": null,
   "id": "d45bbdc8",
   "metadata": {},
   "outputs": [],
   "source": []
  },
  {
   "cell_type": "code",
   "execution_count": 10,
   "id": "4bb110e1",
   "metadata": {},
   "outputs": [
    {
     "name": "stderr",
     "output_type": "stream",
     "text": [
      "                                                                                \r"
     ]
    }
   ],
   "source": [
    "df=spark.read.json('/Users/ajithmurali/Downloads/yelp_academic_dataset_user.json')"
   ]
  },
  {
   "cell_type": "code",
   "execution_count": 246,
   "id": "1a321662",
   "metadata": {},
   "outputs": [
    {
     "name": "stderr",
     "output_type": "stream",
     "text": [
      "                                                                                \r"
     ]
    }
   ],
   "source": []
  },
  {
   "cell_type": "code",
   "execution_count": 11,
   "id": "8bd7696d",
   "metadata": {},
   "outputs": [
    {
     "name": "stderr",
     "output_type": "stream",
     "text": [
      "                                                                                \r"
     ]
    }
   ],
   "source": [
    "df1=spark.read.json('/Users/ajithmurali/Downloads/yelp_academic_dataset_review.json')"
   ]
  },
  {
   "cell_type": "code",
   "execution_count": 89,
   "id": "4b45a2c3",
   "metadata": {},
   "outputs": [
    {
     "name": "stderr",
     "output_type": "stream",
     "text": [
      "                                                                                \r"
     ]
    }
   ],
   "source": []
  },
  {
   "cell_type": "code",
   "execution_count": 12,
   "id": "c41d7a8b",
   "metadata": {},
   "outputs": [
    {
     "name": "stderr",
     "output_type": "stream",
     "text": [
      "22/05/07 15:14:47 WARN package: Truncated the string representation of a plan since it was too large. This behavior can be adjusted by setting 'spark.sql.debug.maxToStringFields'.\n"
     ]
    }
   ],
   "source": [
    "df2=spark.read.json('/Users/ajithmurali/Downloads/yelp_academic_dataset_business.json')"
   ]
  },
  {
   "cell_type": "code",
   "execution_count": 13,
   "id": "9a799962",
   "metadata": {},
   "outputs": [
    {
     "name": "stdout",
     "output_type": "stream",
     "text": [
      "root\n",
      " |-- average_stars: double (nullable = true)\n",
      " |-- compliment_cool: long (nullable = true)\n",
      " |-- compliment_cute: long (nullable = true)\n",
      " |-- compliment_funny: long (nullable = true)\n",
      " |-- compliment_hot: long (nullable = true)\n",
      " |-- compliment_list: long (nullable = true)\n",
      " |-- compliment_more: long (nullable = true)\n",
      " |-- compliment_note: long (nullable = true)\n",
      " |-- compliment_photos: long (nullable = true)\n",
      " |-- compliment_plain: long (nullable = true)\n",
      " |-- compliment_profile: long (nullable = true)\n",
      " |-- compliment_writer: long (nullable = true)\n",
      " |-- cool: long (nullable = true)\n",
      " |-- elite: string (nullable = true)\n",
      " |-- fans: long (nullable = true)\n",
      " |-- friends: string (nullable = true)\n",
      " |-- funny: long (nullable = true)\n",
      " |-- name: string (nullable = true)\n",
      " |-- review_count: long (nullable = true)\n",
      " |-- useful: long (nullable = true)\n",
      " |-- user_id: string (nullable = true)\n",
      " |-- yelping_since: string (nullable = true)\n",
      "\n"
     ]
    }
   ],
   "source": [
    "df.printSchema()"
   ]
  },
  {
   "cell_type": "code",
   "execution_count": 14,
   "id": "ad7904e1",
   "metadata": {},
   "outputs": [
    {
     "name": "stdout",
     "output_type": "stream",
     "text": [
      "root\n",
      " |-- business_id: string (nullable = true)\n",
      " |-- cool: long (nullable = true)\n",
      " |-- date: string (nullable = true)\n",
      " |-- funny: long (nullable = true)\n",
      " |-- review_id: string (nullable = true)\n",
      " |-- stars: double (nullable = true)\n",
      " |-- text: string (nullable = true)\n",
      " |-- useful: long (nullable = true)\n",
      " |-- user_id: string (nullable = true)\n",
      "\n"
     ]
    }
   ],
   "source": [
    "df1.printSchema()"
   ]
  },
  {
   "cell_type": "code",
   "execution_count": 28,
   "id": "fc1bcdf7",
   "metadata": {},
   "outputs": [
    {
     "name": "stdout",
     "output_type": "stream",
     "text": [
      "root\n",
      " |-- address: string (nullable = true)\n",
      " |-- attributes: struct (nullable = true)\n",
      " |    |-- AcceptsInsurance: string (nullable = true)\n",
      " |    |-- AgesAllowed: string (nullable = true)\n",
      " |    |-- Alcohol: string (nullable = true)\n",
      " |    |-- Ambience: string (nullable = true)\n",
      " |    |-- BYOB: string (nullable = true)\n",
      " |    |-- BYOBCorkage: string (nullable = true)\n",
      " |    |-- BestNights: string (nullable = true)\n",
      " |    |-- BikeParking: string (nullable = true)\n",
      " |    |-- BusinessAcceptsBitcoin: string (nullable = true)\n",
      " |    |-- BusinessAcceptsCreditCards: string (nullable = true)\n",
      " |    |-- BusinessParking: string (nullable = true)\n",
      " |    |-- ByAppointmentOnly: string (nullable = true)\n",
      " |    |-- Caters: string (nullable = true)\n",
      " |    |-- CoatCheck: string (nullable = true)\n",
      " |    |-- Corkage: string (nullable = true)\n",
      " |    |-- DietaryRestrictions: string (nullable = true)\n",
      " |    |-- DogsAllowed: string (nullable = true)\n",
      " |    |-- DriveThru: string (nullable = true)\n",
      " |    |-- GoodForDancing: string (nullable = true)\n",
      " |    |-- GoodForKids: string (nullable = true)\n",
      " |    |-- GoodForMeal: string (nullable = true)\n",
      " |    |-- HairSpecializesIn: string (nullable = true)\n",
      " |    |-- HappyHour: string (nullable = true)\n",
      " |    |-- HasTV: string (nullable = true)\n",
      " |    |-- Music: string (nullable = true)\n",
      " |    |-- NoiseLevel: string (nullable = true)\n",
      " |    |-- Open24Hours: string (nullable = true)\n",
      " |    |-- OutdoorSeating: string (nullable = true)\n",
      " |    |-- RestaurantsAttire: string (nullable = true)\n",
      " |    |-- RestaurantsCounterService: string (nullable = true)\n",
      " |    |-- RestaurantsDelivery: string (nullable = true)\n",
      " |    |-- RestaurantsGoodForGroups: string (nullable = true)\n",
      " |    |-- RestaurantsPriceRange2: string (nullable = true)\n",
      " |    |-- RestaurantsReservations: string (nullable = true)\n",
      " |    |-- RestaurantsTableService: string (nullable = true)\n",
      " |    |-- RestaurantsTakeOut: string (nullable = true)\n",
      " |    |-- Smoking: string (nullable = true)\n",
      " |    |-- WheelchairAccessible: string (nullable = true)\n",
      " |    |-- WiFi: string (nullable = true)\n",
      " |-- business_id: string (nullable = true)\n",
      " |-- categories: string (nullable = true)\n",
      " |-- city: string (nullable = true)\n",
      " |-- hours: struct (nullable = true)\n",
      " |    |-- Friday: string (nullable = true)\n",
      " |    |-- Monday: string (nullable = true)\n",
      " |    |-- Saturday: string (nullable = true)\n",
      " |    |-- Sunday: string (nullable = true)\n",
      " |    |-- Thursday: string (nullable = true)\n",
      " |    |-- Tuesday: string (nullable = true)\n",
      " |    |-- Wednesday: string (nullable = true)\n",
      " |-- is_open: long (nullable = true)\n",
      " |-- latitude: double (nullable = true)\n",
      " |-- longitude: double (nullable = true)\n",
      " |-- name: string (nullable = true)\n",
      " |-- postal_code: string (nullable = true)\n",
      " |-- review_count: long (nullable = true)\n",
      " |-- stars: double (nullable = true)\n",
      " |-- state: string (nullable = true)\n",
      "\n"
     ]
    }
   ],
   "source": [
    "df2.printSchema()"
   ]
  },
  {
   "cell_type": "code",
   "execution_count": 19,
   "id": "97231881",
   "metadata": {},
   "outputs": [
    {
     "name": "stderr",
     "output_type": "stream",
     "text": [
      "                                                                                \r"
     ]
    },
    {
     "name": "stdout",
     "output_type": "stream",
     "text": [
      "+--------------------+--------------------+--------------------+--------------------+-------------+--------------------+-------+----------+------------+--------------------+-----------+------------+-----+-----+\n",
      "|             address|          attributes|         business_id|          categories|         city|               hours|is_open|  latitude|   longitude|                name|postal_code|review_count|stars|state|\n",
      "+--------------------+--------------------+--------------------+--------------------+-------------+--------------------+-------+----------+------------+--------------------+-----------+------------+-----+-----+\n",
      "|1616 Chapala St, ...|{null, null, null...|Pns2l4eNsfO8kk83d...|             Doctors|Santa Barbara|                null|      0|34.4266787|-119.7111968|Abby Rappoport, L...|      93101|           7|  5.0|   CA|\n",
      "|1616 Chapala St, ...|{null, null, null...|Pns2l4eNsfO8kk83d...| Traditional Chin...|Santa Barbara|                null|      0|34.4266787|-119.7111968|Abby Rappoport, L...|      93101|           7|  5.0|   CA|\n",
      "|1616 Chapala St, ...|{null, null, null...|Pns2l4eNsfO8kk83d...| Naturopathic/Hol...|Santa Barbara|                null|      0|34.4266787|-119.7111968|Abby Rappoport, L...|      93101|           7|  5.0|   CA|\n",
      "|1616 Chapala St, ...|{null, null, null...|Pns2l4eNsfO8kk83d...|         Acupuncture|Santa Barbara|                null|      0|34.4266787|-119.7111968|Abby Rappoport, L...|      93101|           7|  5.0|   CA|\n",
      "|1616 Chapala St, ...|{null, null, null...|Pns2l4eNsfO8kk83d...|    Health & Medical|Santa Barbara|                null|      0|34.4266787|-119.7111968|Abby Rappoport, L...|      93101|           7|  5.0|   CA|\n",
      "|1616 Chapala St, ...|{null, null, null...|Pns2l4eNsfO8kk83d...|       Nutritionists|Santa Barbara|                null|      0|34.4266787|-119.7111968|Abby Rappoport, L...|      93101|           7|  5.0|   CA|\n",
      "|87 Grasso Plaza S...|{null, null, null...|mpf3x-BjTdTEA3yCZ...|    Shipping Centers|       Affton|{8:0-18:30, 0:0-0...|      1| 38.551126|  -90.335695|       The UPS Store|      63123|          15|  3.0|   MO|\n",
      "|87 Grasso Plaza S...|{null, null, null...|mpf3x-BjTdTEA3yCZ...|      Local Services|       Affton|{8:0-18:30, 0:0-0...|      1| 38.551126|  -90.335695|       The UPS Store|      63123|          15|  3.0|   MO|\n",
      "|87 Grasso Plaza S...|{null, null, null...|mpf3x-BjTdTEA3yCZ...|            Notaries|       Affton|{8:0-18:30, 0:0-0...|      1| 38.551126|  -90.335695|       The UPS Store|      63123|          15|  3.0|   MO|\n",
      "|87 Grasso Plaza S...|{null, null, null...|mpf3x-BjTdTEA3yCZ...|     Mailbox Centers|       Affton|{8:0-18:30, 0:0-0...|      1| 38.551126|  -90.335695|       The UPS Store|      63123|          15|  3.0|   MO|\n",
      "|87 Grasso Plaza S...|{null, null, null...|mpf3x-BjTdTEA3yCZ...|   Printing Services|       Affton|{8:0-18:30, 0:0-0...|      1| 38.551126|  -90.335695|       The UPS Store|      63123|          15|  3.0|   MO|\n",
      "|5255 E Broadway Blvd|{null, null, null...|tUFrWirKiKi_TAnsV...|   Department Stores|       Tucson|{8:0-23:0, 8:0-22...|      0| 32.223236| -110.880452|              Target|      85711|          22|  3.5|   AZ|\n",
      "|5255 E Broadway Blvd|{null, null, null...|tUFrWirKiKi_TAnsV...|            Shopping|       Tucson|{8:0-23:0, 8:0-22...|      0| 32.223236| -110.880452|              Target|      85711|          22|  3.5|   AZ|\n",
      "|5255 E Broadway Blvd|{null, null, null...|tUFrWirKiKi_TAnsV...|             Fashion|       Tucson|{8:0-23:0, 8:0-22...|      0| 32.223236| -110.880452|              Target|      85711|          22|  3.5|   AZ|\n",
      "|5255 E Broadway Blvd|{null, null, null...|tUFrWirKiKi_TAnsV...|       Home & Garden|       Tucson|{8:0-23:0, 8:0-22...|      0| 32.223236| -110.880452|              Target|      85711|          22|  3.5|   AZ|\n",
      "|5255 E Broadway Blvd|{null, null, null...|tUFrWirKiKi_TAnsV...|         Electronics|       Tucson|{8:0-23:0, 8:0-22...|      0| 32.223236| -110.880452|              Target|      85711|          22|  3.5|   AZ|\n",
      "|5255 E Broadway Blvd|{null, null, null...|tUFrWirKiKi_TAnsV...|    Furniture Stores|       Tucson|{8:0-23:0, 8:0-22...|      0| 32.223236| -110.880452|              Target|      85711|          22|  3.5|   AZ|\n",
      "|         935 Race St|{null, null, u'no...|MTSW4McQd7CbVtyjq...|         Restaurants| Philadelphia|{7:0-21:0, 7:0-20...|      1|39.9555052| -75.1555641|  St Honore Pastries|      19107|          80|  4.0|   PA|\n",
      "|         935 Race St|{null, null, u'no...|MTSW4McQd7CbVtyjq...|                Food| Philadelphia|{7:0-21:0, 7:0-20...|      1|39.9555052| -75.1555641|  St Honore Pastries|      19107|          80|  4.0|   PA|\n",
      "|         935 Race St|{null, null, u'no...|MTSW4McQd7CbVtyjq...|          Bubble Tea| Philadelphia|{7:0-21:0, 7:0-20...|      1|39.9555052| -75.1555641|  St Honore Pastries|      19107|          80|  4.0|   PA|\n",
      "+--------------------+--------------------+--------------------+--------------------+-------------+--------------------+-------+----------+------------+--------------------+-----------+------------+-----+-----+\n",
      "only showing top 20 rows\n",
      "\n"
     ]
    }
   ],
   "source": [
    "df2=df2.withColumn(\"categories\",explode(split(\"categories\",\",\")))\n",
    "df2=df2.withColumn(\"attributes\",col(\"attributes\").cast(\"string\"))\n",
    "df2=df2.withColumn(\"hours\",col(\"hours\").cast(\"string\"))\n",
    "df2.coalesce(1).write.format(\"com.databricks.spark.csv\").option(\"header\",\"true\").save(\"business\")\n",
    "df2.write.option(\"multiline\",\"true\").option(\"header\",\"true\").csv(\"business.csv\")\n",
    "df2.show()"
   ]
  },
  {
   "cell_type": "code",
   "execution_count": 16,
   "id": "dfb6ef17",
   "metadata": {},
   "outputs": [
    {
     "name": "stderr",
     "output_type": "stream",
     "text": [
      "                                                                                \r"
     ]
    },
    {
     "name": "stdout",
     "output_type": "stream",
     "text": [
      "+-------------+---------------+---------------+----------------+--------------+---------------+---------------+---------------+-----------------+----------------+------------------+-----------------+-----+--------------------+----+--------------------+-----+---------+------------+------+--------------------+-------------------+\n",
      "|average_stars|compliment_cool|compliment_cute|compliment_funny|compliment_hot|compliment_list|compliment_more|compliment_note|compliment_photos|compliment_plain|compliment_profile|compliment_writer| cool|               elite|fans|             friends|funny|     name|review_count|useful|             user_id|      yelping_since|\n",
      "+-------------+---------------+---------------+----------------+--------------+---------------+---------------+---------------+-----------------+----------------+------------------+-----------------+-----+--------------------+----+--------------------+-----+---------+------------+------+--------------------+-------------------+\n",
      "|         3.91|            467|             56|             467|           250|             18|             65|            232|              180|             844|                55|              239| 5994|                2007| 267|NSCy54eWehBJyZdG2...| 1259|   Walker|         585|  7217|qVc8ODYU5SZjKXVBg...|2007-01-25 16:47:26|\n",
      "|         3.74|           3131|            157|            3131|          1145|            251|            264|           1847|             1946|            7054|               184|             1521|27281|2009,2010,2011,20...|3138|ueRPE0CX75ePGMqOF...|13066|   Daniel|        4333| 43091|j14WgRoU_-2ZE1aw1...|2009-01-25 04:35:42|\n",
      "|         3.32|            119|             17|             119|            89|              3|             13|             66|               18|              96|                10|               35| 1003|2009,2010,2011,20...|  52|LuO3Bn4f3rlhyHIaN...| 1010|    Steph|         665|  2086|2WnXYQFK0hXEoTxPt...|2008-07-25 10:41:00|\n",
      "|         4.27|             26|              6|              26|            24|              2|              4|             12|                9|              16|                 1|               10|  299|      2009,2010,2011|  28|enx1vVPnfdNUdPho6...|  330|     Gwen|         224|   512|SZDeASXq7o05mMNLs...|2005-11-29 04:38:33|\n",
      "|         3.54|              0|              0|               0|             1|              0|              1|              1|                0|               1|                 0|                0|    7|                    |   1|PBK4q9KEEBHhFvSXC...|   15|    Karen|          79|    29|hA5lMy-EnncsH4JoR...|2007-01-05 19:40:59|\n",
      "|         3.85|           2543|            361|            2543|          1713|            147|            163|           1212|              323|            5696|               191|              815|11211|2006,2007,2008,20...|1357|xBDpTUbai0DXrvxCe...| 9940|     Jane|        1221| 14953|q_QQ5kBBwlCcbL1s4...|2005-03-14 20:26:35|\n",
      "|         2.75|              0|              0|               0|             0|              0|              0|              0|                0|               1|                 0|                0|    0|                    |   1|HDAQ74AEznP-YsMk1...|    1|      Rob|          12|     6|cxuxXkcihfCbqt5By...|2009-02-24 03:09:06|\n",
      "|         3.73|             12|              0|              12|             4|              0|              7|              8|                0|               6|                 2|                5|  143|                    |  23|y2GyxJF5VQWohxgw_...|  102|     Mike|         358|   399|E9kcWJdJUHuTKfQur...|2008-12-11 22:11:56|\n",
      "|         4.04|              5|              3|               5|             2|              0|              0|              3|                1|               4|                 0|                3|   46|                    |   7|tOQDlz36rI__SOsbL...|   40| Rachelle|          40|   109|lO1iq-f75hnPNZkTy...|2008-12-29 22:40:56|\n",
      "|          3.4|              3|              0|               3|             0|              0|              0|              1|                0|               6|                 0|                0|   23|                    |   4|gy5fWeSv3Gamuq9Ox...|   20|     John|         109|   154|AUi8MPWJ0mLkMfwbu...|2010-01-07 18:32:04|\n",
      "|          4.0|              0|              0|               0|             0|              0|              0|              0|                0|               0|                 0|                0|    1|                    |   1|Vq4Pc81l6MWTnc-h4...|    0|    Chris|           4|     1|iYzhPPqnrjJkg1JHZ...|2010-11-03 18:59:20|\n",
      "|         3.89|             36|              3|              36|            23|              5|              9|             31|                7|              41|                 1|               24|  573| 2009,2010,2011,2012|  31|6tbXpUIU6upoeqWND...|  487|     Ryan|         535|  1130|xoZvMJPDW6Q9pDAXI...|2009-05-27 06:12:10|\n",
      "|         4.51|              0|              0|               0|             4|              0|              0|              1|                0|               5|                 0|                1|   27|                    |   4|zkK6c9BcDyqreU0fq...|    3| Charlene|          37|    63|vVukUtqoLF5BvH_Vt...|2011-01-29 17:18:59|\n",
      "|         3.08|              0|              0|               0|             0|              0|              0|              0|                0|               0|                 0|                0|    0|                    |   0|f0mdrhyxVZ0TsFZD5...|    3|    Kenny|          11|    30|_crIokUeTCHVK_JVO...|2009-10-07 17:23:44|\n",
      "|         4.29|              2|              0|               2|             1|              0|              0|              1|                0|               0|                 0|                0|   13|                    |   1|piejMEdRkGB7-1aL4...|    3|   Teresa|           7|    18|1McG5Rn_UDkmlkZOr...|2009-05-26 16:11:11|\n",
      "|         3.75|            221|             22|             221|           212|             34|             17|             67|               17|             158|                17|               45| 1297|2007,2008,2009,20...|  44|j3MBGSLaXMlhLZNeA...| 1138|   Eugene|         682|  1819|SgiBkhXeqIKl1PlFp...|2006-08-25 16:47:25|\n",
      "|         4.15|              2|              0|               2|             0|              0|              1|              6|                0|               2|                 0|                1|   19|                    |   1|hJiJzw6obCmbGAfwr...|    2| Jennifer|          25|    29|fJZO_skqpnhk1kvom...|2008-07-14 16:01:36|\n",
      "|         3.84|             66|              0|              66|            15|              0|              1|             12|               12|              33|                 0|                1|   29|                    |   9|EPBLDry-ObheloH-N...|   29|  Ronskee|          37|    56|x7YtLnBW2dUnrrpwa...|2010-05-06 00:40:56|\n",
      "|         4.11|            808|             29|             808|          1020|             23|             79|            144|              723|             407|                68|              587| 4149|2010,2011,2012,20...| 131|dLts9bY66tXEFqYG0...| 3714|Catherine|         607|  4573|QF1Kuhs8iwLWANNZx...|2009-04-27 20:25:54|\n",
      "|          3.6|              0|              0|               0|             1|              0|              0|              2|                0|               4|                 0|                1|   44|                    |   4|Ynu2Z2L8Wv2fbTwQ_...|   52|       AJ|         133|   201|VcLRGCG_VbAo8MxOm...|2009-07-11 16:47:38|\n",
      "+-------------+---------------+---------------+----------------+--------------+---------------+---------------+---------------+-----------------+----------------+------------------+-----------------+-----+--------------------+----+--------------------+-----+---------+------------+------+--------------------+-------------------+\n",
      "only showing top 20 rows\n",
      "\n"
     ]
    }
   ],
   "source": [
    "df.write.option(\"multiline\",\"true\").option(\"header\",\"true\").csv(\"user.csv\")\n",
    "df.show()"
   ]
  },
  {
   "cell_type": "code",
   "execution_count": 20,
   "id": "61e287c3",
   "metadata": {},
   "outputs": [
    {
     "name": "stderr",
     "output_type": "stream",
     "text": [
      "                                                                                \r"
     ]
    },
    {
     "name": "stdout",
     "output_type": "stream",
     "text": [
      "+--------------------+--------------------+--------------------+--------------------+-------------+--------------------+-------+----------+------------+--------------------+-----------+------------+-----+-----+\n",
      "|             address|          attributes|         business_id|          categories|         city|               hours|is_open|  latitude|   longitude|                name|postal_code|review_count|stars|state|\n",
      "+--------------------+--------------------+--------------------+--------------------+-------------+--------------------+-------+----------+------------+--------------------+-----------+------------+-----+-----+\n",
      "|1616 Chapala St, ...|{null, null, null...|Pns2l4eNsfO8kk83d...|             Doctors|Santa Barbara|                null|      0|34.4266787|-119.7111968|Abby Rappoport, L...|      93101|           7|  5.0|   CA|\n",
      "|1616 Chapala St, ...|{null, null, null...|Pns2l4eNsfO8kk83d...| Traditional Chin...|Santa Barbara|                null|      0|34.4266787|-119.7111968|Abby Rappoport, L...|      93101|           7|  5.0|   CA|\n",
      "|1616 Chapala St, ...|{null, null, null...|Pns2l4eNsfO8kk83d...| Naturopathic/Hol...|Santa Barbara|                null|      0|34.4266787|-119.7111968|Abby Rappoport, L...|      93101|           7|  5.0|   CA|\n",
      "|1616 Chapala St, ...|{null, null, null...|Pns2l4eNsfO8kk83d...|         Acupuncture|Santa Barbara|                null|      0|34.4266787|-119.7111968|Abby Rappoport, L...|      93101|           7|  5.0|   CA|\n",
      "|1616 Chapala St, ...|{null, null, null...|Pns2l4eNsfO8kk83d...|    Health & Medical|Santa Barbara|                null|      0|34.4266787|-119.7111968|Abby Rappoport, L...|      93101|           7|  5.0|   CA|\n",
      "|1616 Chapala St, ...|{null, null, null...|Pns2l4eNsfO8kk83d...|       Nutritionists|Santa Barbara|                null|      0|34.4266787|-119.7111968|Abby Rappoport, L...|      93101|           7|  5.0|   CA|\n",
      "|87 Grasso Plaza S...|{null, null, null...|mpf3x-BjTdTEA3yCZ...|    Shipping Centers|       Affton|{8:0-18:30, 0:0-0...|      1| 38.551126|  -90.335695|       The UPS Store|      63123|          15|  3.0|   MO|\n",
      "|87 Grasso Plaza S...|{null, null, null...|mpf3x-BjTdTEA3yCZ...|      Local Services|       Affton|{8:0-18:30, 0:0-0...|      1| 38.551126|  -90.335695|       The UPS Store|      63123|          15|  3.0|   MO|\n",
      "|87 Grasso Plaza S...|{null, null, null...|mpf3x-BjTdTEA3yCZ...|            Notaries|       Affton|{8:0-18:30, 0:0-0...|      1| 38.551126|  -90.335695|       The UPS Store|      63123|          15|  3.0|   MO|\n",
      "|87 Grasso Plaza S...|{null, null, null...|mpf3x-BjTdTEA3yCZ...|     Mailbox Centers|       Affton|{8:0-18:30, 0:0-0...|      1| 38.551126|  -90.335695|       The UPS Store|      63123|          15|  3.0|   MO|\n",
      "|87 Grasso Plaza S...|{null, null, null...|mpf3x-BjTdTEA3yCZ...|   Printing Services|       Affton|{8:0-18:30, 0:0-0...|      1| 38.551126|  -90.335695|       The UPS Store|      63123|          15|  3.0|   MO|\n",
      "|5255 E Broadway Blvd|{null, null, null...|tUFrWirKiKi_TAnsV...|   Department Stores|       Tucson|{8:0-23:0, 8:0-22...|      0| 32.223236| -110.880452|              Target|      85711|          22|  3.5|   AZ|\n",
      "|5255 E Broadway Blvd|{null, null, null...|tUFrWirKiKi_TAnsV...|            Shopping|       Tucson|{8:0-23:0, 8:0-22...|      0| 32.223236| -110.880452|              Target|      85711|          22|  3.5|   AZ|\n",
      "|5255 E Broadway Blvd|{null, null, null...|tUFrWirKiKi_TAnsV...|             Fashion|       Tucson|{8:0-23:0, 8:0-22...|      0| 32.223236| -110.880452|              Target|      85711|          22|  3.5|   AZ|\n",
      "|5255 E Broadway Blvd|{null, null, null...|tUFrWirKiKi_TAnsV...|       Home & Garden|       Tucson|{8:0-23:0, 8:0-22...|      0| 32.223236| -110.880452|              Target|      85711|          22|  3.5|   AZ|\n",
      "|5255 E Broadway Blvd|{null, null, null...|tUFrWirKiKi_TAnsV...|         Electronics|       Tucson|{8:0-23:0, 8:0-22...|      0| 32.223236| -110.880452|              Target|      85711|          22|  3.5|   AZ|\n",
      "|5255 E Broadway Blvd|{null, null, null...|tUFrWirKiKi_TAnsV...|    Furniture Stores|       Tucson|{8:0-23:0, 8:0-22...|      0| 32.223236| -110.880452|              Target|      85711|          22|  3.5|   AZ|\n",
      "|         935 Race St|{null, null, u'no...|MTSW4McQd7CbVtyjq...|         Restaurants| Philadelphia|{7:0-21:0, 7:0-20...|      1|39.9555052| -75.1555641|  St Honore Pastries|      19107|          80|  4.0|   PA|\n",
      "|         935 Race St|{null, null, u'no...|MTSW4McQd7CbVtyjq...|                Food| Philadelphia|{7:0-21:0, 7:0-20...|      1|39.9555052| -75.1555641|  St Honore Pastries|      19107|          80|  4.0|   PA|\n",
      "|         935 Race St|{null, null, u'no...|MTSW4McQd7CbVtyjq...|          Bubble Tea| Philadelphia|{7:0-21:0, 7:0-20...|      1|39.9555052| -75.1555641|  St Honore Pastries|      19107|          80|  4.0|   PA|\n",
      "+--------------------+--------------------+--------------------+--------------------+-------------+--------------------+-------+----------+------------+--------------------+-----------+------------+-----+-----+\n",
      "only showing top 20 rows\n",
      "\n"
     ]
    }
   ],
   "source": [
    "df2.write.option(\"multiline\",\"true\").csv(\"review.csv\")\n",
    "df2.show()"
   ]
  },
  {
   "cell_type": "code",
   "execution_count": 21,
   "id": "90c97601",
   "metadata": {},
   "outputs": [
    {
     "name": "stderr",
     "output_type": "stream",
     "text": [
      "\r",
      "[Stage 13:>                                                         (0 + 1) / 1]\r"
     ]
    },
    {
     "name": "stdout",
     "output_type": "stream",
     "text": [
      "+--------------------+-----------------+\n",
      "|          categories|count(categories)|\n",
      "+--------------------+-----------------+\n",
      "|    Furniture Stores|             1331|\n",
      "|    Historical Tours|               26|\n",
      "|              Korean|              375|\n",
      "|      Dermatologists|               80|\n",
      "| Beach Equipment ...|                9|\n",
      "| Boudoir Photography|               34|\n",
      "|      Paddleboarding|               20|\n",
      "|    Hot Air Balloons|                5|\n",
      "| Mobile Home Dealers|                2|\n",
      "|               Roman|                1|\n",
      "|               Tires|             1935|\n",
      "|  Car Window Tinting|              198|\n",
      "|    Historical Tours|              110|\n",
      "|       Live/Raw Food|               73|\n",
      "| Commercial Truck...|               54|\n",
      "|             Beaches|               34|\n",
      "|              Fondue|                7|\n",
      "|         Boat Repair|               10|\n",
      "|       Skating Rinks|               27|\n",
      "|       Data Recovery|               16|\n",
      "+--------------------+-----------------+\n",
      "only showing top 20 rows\n",
      "\n"
     ]
    },
    {
     "name": "stderr",
     "output_type": "stream",
     "text": [
      "\r",
      "                                                                                \r"
     ]
    }
   ],
   "source": [
    "df2.withColumn(\"categories\",explode(split(\"categories\",',')))\n",
    "df2.groupBy(\"categories\").agg(count(\"categories\")).show()"
   ]
  },
  {
   "cell_type": "code",
   "execution_count": 22,
   "id": "8dc5b9f5",
   "metadata": {},
   "outputs": [],
   "source": [
    "df2.createOrReplaceTempView(\"df2\")"
   ]
  },
  {
   "cell_type": "code",
   "execution_count": 23,
   "id": "0c37d2eb",
   "metadata": {},
   "outputs": [
    {
     "name": "stderr",
     "output_type": "stream",
     "text": [
      "\r",
      "[Stage 17:>                                                         (0 + 1) / 1]\r"
     ]
    },
    {
     "name": "stdout",
     "output_type": "stream",
     "text": [
      "+--------------------+-----------+------------+-----+\n",
      "|                name| categories|review_count|stars|\n",
      "+--------------------+-----------+------------+-----+\n",
      "|         Cafe Soleil|Restaurants|         468|  5.0|\n",
      "|       Big Al's Deli|Restaurants|         390|  5.0|\n",
      "|  Barista Del Barrio|Restaurants|         357|  5.0|\n",
      "|   Hole In One Donut|Restaurants|         214|  5.0|\n",
      "|Edessa Restaurant...|Restaurants|         198|  5.0|\n",
      "+--------------------+-----------+------------+-----+\n",
      "\n"
     ]
    },
    {
     "name": "stderr",
     "output_type": "stream",
     "text": [
      "\r",
      "                                                                                \r"
     ]
    }
   ],
   "source": [
    "spark.sql(\"select name,categories,review_count,stars from df2 where categories='Restaurants' and review_count>=10 order By stars desc,review_count desc limit 5\").show()"
   ]
  },
  {
   "cell_type": "code",
   "execution_count": 24,
   "id": "8a2990c1",
   "metadata": {},
   "outputs": [
    {
     "name": "stderr",
     "output_type": "stream",
     "text": [
      "\r",
      "[Stage 19:>                                                         (0 + 1) / 1]\r"
     ]
    },
    {
     "name": "stdout",
     "output_type": "stream",
     "text": [
      "+--------------------+--------------------+------------+-----+\n",
      "|         business_id|                name|review_count|stars|\n",
      "+--------------------+--------------------+------------+-----+\n",
      "|WNjrsnJVPPnv_FtHH...|Frontier Communic...|         397|  1.0|\n",
      "|7BQObhEOYhw5HUcmp...|    Horizon Services|         338|  2.0|\n",
      "|_asl6r3sQF9XSo0CZ...|  American Arborists|         206|  5.0|\n",
      "|aqdoynddLcBTSmI7u...| Miles: The Auto Spa|         191|  2.5|\n",
      "|mZlz6wq17Vl0wEokd...|Banko Overhead Doors|         190|  4.5|\n",
      "+--------------------+--------------------+------------+-----+\n",
      "\n"
     ]
    },
    {
     "name": "stderr",
     "output_type": "stream",
     "text": [
      "\r",
      "                                                                                \r"
     ]
    }
   ],
   "source": [
    "spark.sql(\"select business_id,name,review_count,stars from df2 where categories='Home Services' order By review_count desc limit 5\").show()"
   ]
  },
  {
   "cell_type": "code",
   "execution_count": 28,
   "id": "0c770cf7",
   "metadata": {},
   "outputs": [
    {
     "name": "stderr",
     "output_type": "stream",
     "text": [
      "[Stage 32:>                                                         (0 + 1) / 1]\r"
     ]
    },
    {
     "name": "stdout",
     "output_type": "stream",
     "text": [
      "+----------+----------+\n",
      "|      city|max(stars)|\n",
      "+----------+----------+\n",
      "|Brownsburg|       5.0|\n",
      "+----------+----------+\n",
      "\n"
     ]
    },
    {
     "name": "stderr",
     "output_type": "stream",
     "text": [
      "\r",
      "                                                                                \r"
     ]
    }
   ],
   "source": [
    "spark.sql(\"select city,max(stars) from df2 where categories like 'Nightlife' group By city,stars order By stars desc limit 1\").show()"
   ]
  },
  {
   "cell_type": "code",
   "execution_count": 29,
   "id": "7ae7f4d6",
   "metadata": {},
   "outputs": [],
   "source": [
    "df.createOrReplaceTempView(\"df\")\n",
    "df1.createOrReplaceTempView(\"df1\")\n",
    "df2.createOrReplaceTempView(\"df2\")"
   ]
  },
  {
   "cell_type": "code",
   "execution_count": 30,
   "id": "2111d43f",
   "metadata": {},
   "outputs": [],
   "source": [
    "df3=spark.sql(\"select df1.user_id,df2.name,df2.categories,df2.review_count from df1 inner join df2 on df1.business_id=df2.business_id\")"
   ]
  },
  {
   "cell_type": "code",
   "execution_count": 31,
   "id": "2c22333c",
   "metadata": {},
   "outputs": [
    {
     "name": "stderr",
     "output_type": "stream",
     "text": [
      "                                                                                \r"
     ]
    },
    {
     "name": "stdout",
     "output_type": "stream",
     "text": [
      "+--------------------+--------------------+--------------------+------------+\n",
      "|             user_id|                name|          categories|review_count|\n",
      "+--------------------+--------------------+--------------------+------------+\n",
      "|mh_-eMZ6K5RLWhZyI...|Turning Point of ...|          Sandwiches|         169|\n",
      "|mh_-eMZ6K5RLWhZyI...|Turning Point of ...|        Coffee & Tea|         169|\n",
      "|mh_-eMZ6K5RLWhZyI...|Turning Point of ...|      American (New)|         169|\n",
      "|mh_-eMZ6K5RLWhZyI...|Turning Point of ...| Juice Bars & Smo...|         169|\n",
      "|mh_-eMZ6K5RLWhZyI...|Turning Point of ...|                Food|         169|\n",
      "|mh_-eMZ6K5RLWhZyI...|Turning Point of ...|  Breakfast & Brunch|         169|\n",
      "|mh_-eMZ6K5RLWhZyI...|Turning Point of ...|         Restaurants|         169|\n",
      "|OyoGAe7OKpv6SyGZT...|Body Cycle Spinni...| Fitness & Instru...|         144|\n",
      "|OyoGAe7OKpv6SyGZT...|Body Cycle Spinni...|                Gyms|         144|\n",
      "|OyoGAe7OKpv6SyGZT...|Body Cycle Spinni...|            Trainers|         144|\n",
      "|OyoGAe7OKpv6SyGZT...|Body Cycle Spinni...|     Cycling Classes|         144|\n",
      "|OyoGAe7OKpv6SyGZT...|Body Cycle Spinni...|         Active Life|         144|\n",
      "|8g_iMtfSiwikVnbP2...|   Kettle Restaurant|  Breakfast & Brunch|          47|\n",
      "|8g_iMtfSiwikVnbP2...|   Kettle Restaurant|         Restaurants|          47|\n",
      "|_7bHUi9Uuf5__HHc_...|               Zaika|              Indian|         181|\n",
      "|_7bHUi9Uuf5__HHc_...|               Zaika|         Restaurants|         181|\n",
      "|_7bHUi9Uuf5__HHc_...|               Zaika|           Pakistani|         181|\n",
      "|_7bHUi9Uuf5__HHc_...|               Zaika|               Halal|         181|\n",
      "|bcjbaE6dDog4jkNY9...|                Melt|           Nightlife|          32|\n",
      "|bcjbaE6dDog4jkNY9...|                Melt| American (Tradit...|          32|\n",
      "+--------------------+--------------------+--------------------+------------+\n",
      "only showing top 20 rows\n",
      "\n"
     ]
    }
   ],
   "source": [
    "df3.show()"
   ]
  },
  {
   "cell_type": "code",
   "execution_count": 32,
   "id": "ac7ecddf",
   "metadata": {},
   "outputs": [
    {
     "name": "stderr",
     "output_type": "stream",
     "text": [
      "                                                                                \r"
     ]
    }
   ],
   "source": [
    "df3.write.option(\"multiline\",\"true\").option(\"header\",\"true\").csv(\"users.csv\")"
   ]
  },
  {
   "cell_type": "code",
   "execution_count": 34,
   "id": "23699c0e",
   "metadata": {},
   "outputs": [
    {
     "name": "stderr",
     "output_type": "stream",
     "text": [
      "\r",
      "[Stage 37:>                                                         (0 + 1) / 1]\r"
     ]
    },
    {
     "name": "stdout",
     "output_type": "stream",
     "text": [
      "668592\n",
      "+--------------------+\n",
      "|          categories|\n",
      "+--------------------+\n",
      "|             Doctors|\n",
      "| Traditional Chin...|\n",
      "| Naturopathic/Hol...|\n",
      "|         Acupuncture|\n",
      "|    Health & Medical|\n",
      "|       Nutritionists|\n",
      "|    Shipping Centers|\n",
      "|      Local Services|\n",
      "|            Notaries|\n",
      "|     Mailbox Centers|\n",
      "|   Printing Services|\n",
      "|   Department Stores|\n",
      "|            Shopping|\n",
      "|             Fashion|\n",
      "|       Home & Garden|\n",
      "|         Electronics|\n",
      "|    Furniture Stores|\n",
      "|         Restaurants|\n",
      "|                Food|\n",
      "|          Bubble Tea|\n",
      "+--------------------+\n",
      "only showing top 20 rows\n",
      "\n"
     ]
    },
    {
     "name": "stderr",
     "output_type": "stream",
     "text": [
      "\r",
      "                                                                                \r"
     ]
    }
   ],
   "source": [
    "c1=df2.select(df2.categories)\n",
    "print(c1.count())\n",
    "c1.show()"
   ]
  },
  {
   "cell_type": "code",
   "execution_count": 35,
   "id": "7b2cdfb3",
   "metadata": {},
   "outputs": [
    {
     "name": "stderr",
     "output_type": "stream",
     "text": [
      "[Stage 40:======================================================> (39 + 1) / 40]\r"
     ]
    },
    {
     "name": "stdout",
     "output_type": "stream",
     "text": [
      "6990280\n"
     ]
    },
    {
     "name": "stderr",
     "output_type": "stream",
     "text": [
      "\r",
      "                                                                                \r"
     ]
    }
   ],
   "source": [
    "print(df1.count())"
   ]
  },
  {
   "cell_type": "code",
   "execution_count": 36,
   "id": "b2f7ff84",
   "metadata": {},
   "outputs": [
    {
     "name": "stderr",
     "output_type": "stream",
     "text": [
      "\r",
      "[Stage 42:>                                                         (0 + 1) / 1]\r"
     ]
    },
    {
     "name": "stdout",
     "output_type": "stream",
     "text": [
      "43813\n",
      "+---------------+\n",
      "|     categories|\n",
      "+---------------+\n",
      "|           Food|\n",
      "|           Food|\n",
      "|      Fast Food|\n",
      "|           Food|\n",
      "|      Fast Food|\n",
      "|           Food|\n",
      "|           Food|\n",
      "|    Food Trucks|\n",
      "|           Food|\n",
      "|           Food|\n",
      "|           Food|\n",
      "| Specialty Food|\n",
      "|           Food|\n",
      "|           Food|\n",
      "|           Food|\n",
      "| Specialty Food|\n",
      "|           Food|\n",
      "|           Food|\n",
      "|           Food|\n",
      "|           Food|\n",
      "+---------------+\n",
      "only showing top 20 rows\n",
      "\n"
     ]
    },
    {
     "name": "stderr",
     "output_type": "stream",
     "text": [
      "\r",
      "                                                                                \r"
     ]
    }
   ],
   "source": [
    "c1=df2.select(df2.categories).where(df2.categories.like(\"%Food%\"))\n",
    "print(c1.count())\n",
    "c1.show()"
   ]
  },
  {
   "cell_type": "code",
   "execution_count": 38,
   "id": "cf1782df",
   "metadata": {},
   "outputs": [
    {
     "name": "stderr",
     "output_type": "stream",
     "text": [
      "                                                                                \r"
     ]
    }
   ],
   "source": [
    "l1=[\"Food\",\"Health & Medical\",\"Shopping\",\"Restaurants\",\"Accessories\",\"Auto Parts & Supplies\",\"Hotels & Travel\",\"Pets\",\"IT Services & Computer Repair\",\"Arts & Entertainment\",\"Beauty & Spas\",\"Automotive\",\"Home Services\",\"Financial Services\"]\n",
    "l2=[]\n",
    "for i in l1:\n",
    "    cat_list=df2.select(df2.categories).where(df2.categories.like(\"%\"+i+\"%\"))\n",
    "    cat_count=cat_list.count()\n",
    "    l2.append(cat_count)"
   ]
  },
  {
   "cell_type": "code",
   "execution_count": 39,
   "id": "d16d4e64",
   "metadata": {},
   "outputs": [
    {
     "name": "stdout",
     "output_type": "stream",
     "text": [
      "['Food', 'Health & Medical', 'Shopping', 'Restaurants', 'Accessories', 'Auto Parts & Supplies', 'Hotels & Travel', 'Pets', 'IT Services & Computer Repair', 'Arts & Entertainment', 'Beauty & Spas', 'Automotive', 'Home Services', 'Financial Services']\n",
      "[43813, 11890, 24858, 52343, 2107, 1926, 5857, 3758, 1189, 5434, 14292, 10773, 14356, 1487]\n"
     ]
    }
   ],
   "source": [
    "print(l1)\n",
    "print(l2)"
   ]
  },
  {
   "cell_type": "code",
   "execution_count": 48,
   "id": "f8fcb700",
   "metadata": {},
   "outputs": [
    {
     "ename": "TypeError",
     "evalue": "createDataFrame() missing 1 required positional argument: 'data'",
     "output_type": "error",
     "traceback": [
      "\u001b[0;31m---------------------------------------------------------------------------\u001b[0m",
      "\u001b[0;31mTypeError\u001b[0m                                 Traceback (most recent call last)",
      "\u001b[0;32m/var/folders/56/tgrtw5g17z9006b9fnq9tq640000gp/T/ipykernel_1080/1900654028.py\u001b[0m in \u001b[0;36m<module>\u001b[0;34m\u001b[0m\n\u001b[0;32m----> 1\u001b[0;31m \u001b[0mdf3\u001b[0m\u001b[0;34m=\u001b[0m\u001b[0mSQLContext\u001b[0m\u001b[0;34m.\u001b[0m\u001b[0mcreateDataFrame\u001b[0m\u001b[0;34m(\u001b[0m\u001b[0mzip\u001b[0m\u001b[0;34m(\u001b[0m\u001b[0ml1\u001b[0m\u001b[0;34m,\u001b[0m\u001b[0ml2\u001b[0m\u001b[0;34m)\u001b[0m\u001b[0;34m,\u001b[0m\u001b[0mschema\u001b[0m\u001b[0;34m=\u001b[0m\u001b[0;34m[\u001b[0m\u001b[0;34m\"categories\"\u001b[0m\u001b[0;34m,\u001b[0m\u001b[0;34m\"categoriescount\"\u001b[0m\u001b[0;34m]\u001b[0m\u001b[0;34m)\u001b[0m\u001b[0;34m\u001b[0m\u001b[0;34m\u001b[0m\u001b[0m\n\u001b[0m",
      "\u001b[0;31mTypeError\u001b[0m: createDataFrame() missing 1 required positional argument: 'data'"
     ]
    }
   ],
   "source": [
    "df3=SQLContext.createDataFrame(zip(l1,l2),schema=[\"categories\",\"categories count\"])"
   ]
  },
  {
   "cell_type": "code",
   "execution_count": 50,
   "id": "4fa2f3b8",
   "metadata": {},
   "outputs": [],
   "source": [
    "Restaurants = df2.where(df2.categories.like(\"%Restaurants%\"))"
   ]
  },
  {
   "cell_type": "code",
   "execution_count": 51,
   "id": "f24243ca",
   "metadata": {},
   "outputs": [
    {
     "data": {
      "text/plain": [
       "DataFrame[address: string, attributes: string, business_id: string, categories: string, city: string, hours: string, is_open: bigint, latitude: double, longitude: double, name: string, postal_code: string, review_count: bigint, stars: double, state: string]"
      ]
     },
     "execution_count": 51,
     "metadata": {},
     "output_type": "execute_result"
    }
   ],
   "source": [
    "Restaurants"
   ]
  },
  {
   "cell_type": "code",
   "execution_count": 53,
   "id": "8453e4d1",
   "metadata": {},
   "outputs": [],
   "source": [
    "rest_df2=Restaurants.filter(Restaurants.review_count>=10)"
   ]
  },
  {
   "cell_type": "code",
   "execution_count": 54,
   "id": "0ffc0b07",
   "metadata": {},
   "outputs": [
    {
     "data": {
      "text/plain": [
       "DataFrame[address: string, attributes: string, business_id: string, categories: string, city: string, hours: string, is_open: bigint, latitude: double, longitude: double, name: string, postal_code: string, review_count: bigint, stars: double, state: string]"
      ]
     },
     "execution_count": 54,
     "metadata": {},
     "output_type": "execute_result"
    }
   ],
   "source": [
    "rest_df2"
   ]
  },
  {
   "cell_type": "code",
   "execution_count": 55,
   "id": "6be0bdff",
   "metadata": {},
   "outputs": [
    {
     "name": "stderr",
     "output_type": "stream",
     "text": [
      "                                                                                \r"
     ]
    },
    {
     "name": "stdout",
     "output_type": "stream",
     "text": [
      "+-----+\n",
      "|stars|\n",
      "+-----+\n",
      "|  3.5|\n",
      "|  4.5|\n",
      "|  2.5|\n",
      "|  1.0|\n",
      "|  4.0|\n",
      "|  3.0|\n",
      "|  2.0|\n",
      "|  1.5|\n",
      "|  5.0|\n",
      "+-----+\n",
      "\n"
     ]
    }
   ],
   "source": [
    "rest_df2.select(\"stars\").distinct().show()"
   ]
  },
  {
   "cell_type": "code",
   "execution_count": 56,
   "id": "291752e9",
   "metadata": {},
   "outputs": [],
   "source": [
    "top5_rest=rest_df2.select(\"name\",\"review_count\",\"stars\").orderBy(col(\"stars\").desc(),col(\"review_count\").desc()).limit(5)"
   ]
  },
  {
   "cell_type": "code",
   "execution_count": 57,
   "id": "aa8955ac",
   "metadata": {},
   "outputs": [
    {
     "data": {
      "text/plain": [
       "DataFrame[name: string, review_count: bigint, stars: double]"
      ]
     },
     "execution_count": 57,
     "metadata": {},
     "output_type": "execute_result"
    }
   ],
   "source": [
    "top5_rest"
   ]
  },
  {
   "cell_type": "code",
   "execution_count": null,
   "id": "d4787aec",
   "metadata": {},
   "outputs": [],
   "source": []
  }
 ],
 "metadata": {
  "kernelspec": {
   "display_name": "Python 3 (ipykernel)",
   "language": "python",
   "name": "python3"
  },
  "language_info": {
   "codemirror_mode": {
    "name": "ipython",
    "version": 3
   },
   "file_extension": ".py",
   "mimetype": "text/x-python",
   "name": "python",
   "nbconvert_exporter": "python",
   "pygments_lexer": "ipython3",
   "version": "3.9.7"
  }
 },
 "nbformat": 4,
 "nbformat_minor": 5
}
